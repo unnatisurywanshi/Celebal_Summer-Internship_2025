{
  "nbformat": 4,
  "nbformat_minor": 0,
  "metadata": {
    "colab": {
      "provenance": []
    },
    "kernelspec": {
      "name": "python3",
      "display_name": "Python 3"
    },
    "language_info": {
      "name": "python"
    }
  },
  "cells": [
    {
      "cell_type": "code",
      "execution_count": 2,
      "metadata": {
        "colab": {
          "base_uri": "https://localhost:8080/"
        },
        "id": "rRe6HYeqofvM",
        "outputId": "b036b170-05a1-4c94-f3cd-518e62b9dba8"
      },
      "outputs": [
        {
          "output_type": "stream",
          "name": "stdout",
          "text": [
            "Lower Triangular\n",
            "* \n",
            "* * \n",
            "* * * \n",
            "* * * * \n",
            "* * * * * \n",
            "\n",
            "Upper Triangular\n",
            "* * * * * \n",
            "  * * * * \n",
            "    * * * \n",
            "      * * \n",
            "        * \n",
            "\n",
            "Pyramid\n",
            "    * \n",
            "   * * \n",
            "  * * * \n",
            " * * * * \n",
            "* * * * * \n"
          ]
        }
      ],
      "source": [
        "# Lower Triangular\n",
        "n = 5\n",
        "print(\"Lower Triangular\")\n",
        "for i in range(1, n+1):\n",
        "    print('* ' * i)\n",
        "\n",
        "# Upper Triangular\n",
        "print(\"\\nUpper Triangular\")\n",
        "for i in range(n, 0, -1):\n",
        "    print('  ' * (n - i) + '* ' * i)\n",
        "\n",
        "# Pyramid\n",
        "print(\"\\nPyramid\")\n",
        "for i in range(1, n+1):\n",
        "    print(' ' * (n - i) + '* ' * i)"
      ]
    }
  ]
}